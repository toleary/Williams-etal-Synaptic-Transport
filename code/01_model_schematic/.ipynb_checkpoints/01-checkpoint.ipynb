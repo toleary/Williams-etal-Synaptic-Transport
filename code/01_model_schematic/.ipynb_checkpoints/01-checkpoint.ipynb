{
 "cells": [
  {
   "cell_type": "code",
   "execution_count": null,
   "metadata": {
    "collapsed": false
   },
   "outputs": [],
   "source": [
    "from __future__ import division\n",
    "import pylab as plt\n",
    "from numpy import random,argwhere,linspace,diff,sign\n",
    "from numpy.random import randint\n",
    "import numpy as np\n",
    "%matplotlib inline"
   ]
  },
  {
   "cell_type": "code",
   "execution_count": null,
   "metadata": {
    "collapsed": false
   },
   "outputs": [],
   "source": [
    "tmax = 30\n",
    "dt = 0.5\n",
    "nt = int(1 + tmax/dt)\n",
    "\n",
    "velocities = [-0.5, 0.0, 0.5]\n",
    "klevels = [0.0,0.3,0.6]\n",
    "#pp1 = np.array([0.1,0.7,0.2])\n",
    "#pp2 = np.array([0.25,0.25,0.5])\n",
    "#theta = random.rand()\n",
    "#pp = pp1*theta + pp2*(1-theta)\n",
    "pp = np.array([0.3,0.3,0.4])\n",
    "\n",
    "\n",
    "def get_P(k):\n",
    "    # parameter k tunes the hysteresis\n",
    "    # parameter pp are the columns of P when k=0\n",
    "    P0 = np.tile(pp,(3,1)).T # matrix when k=0\n",
    "    P1 = np.eye(3)           # matrix when k=1\n",
    "    return P0*(1-k)+P1*k \n",
    "\n",
    "def update(x,s,P,dt):\n",
    "    # Draw a new state\n",
    "    s.append(random.choice(range(3),p=P[:,s[-1]]))\n",
    "    # Determine new velocity\n",
    "    v = velocities[s[-1]]\n",
    "    # Append new position\n",
    "    x.append(x[-1]+v*dt)"
   ]
  },
  {
   "cell_type": "code",
   "execution_count": null,
   "metadata": {
    "collapsed": false
   },
   "outputs": [],
   "source": [
    "def markov_sim(k,n=1,plots=False):\n",
    "    \"\"\"\n",
    "    k = parameter tuning the hysteresis\n",
    "    n = number of simulations to run (only last sim is returned)\n",
    "    \"\"\"\n",
    "    P = get_P(k) # state transition matrix\n",
    "    \n",
    "    for i in range(n):\n",
    "        x = [random.uniform(-0.5,0.5)]          # initial position\n",
    "        s = [randint(3)] # initial state\n",
    "        t = 0            # initial time\n",
    "        while t < tmax:\n",
    "            t += dt\n",
    "            update(x,s,P,dt)\n",
    "        if plots: plt.plot(linspace(0,tmax,len(x)),x)\n",
    "    \n",
    "    if plots:\n",
    "        plt.yticks([-4,6])\n",
    "        plt.xlabel('time',fontsize=15)\n",
    "        plt.ylabel('position',fontsize=15)\n",
    "    return x,s\n",
    "\n",
    "#     plt.subplot(2,1,2)\n",
    "#     plt.bar(velocities,np.mean(P,axis=1),width=0.1,align='center')\n",
    "#     plt.ylim([0,0.6])\n",
    "#     plt.xticks(velocities)\n",
    "#     plt.xlim([-0.8,0.8])\n",
    "#     plt.xlabel('velocity',fontsize=15)\n",
    "#     plt.ylabel('probability',fontsize=15)"
   ]
  },
  {
   "cell_type": "code",
   "execution_count": null,
   "metadata": {
    "collapsed": false
   },
   "outputs": [],
   "source": [
    "plt.figure(figsize=(12,3))\n",
    "for splt,k in enumerate(klevels):\n",
    "    plt.subplot(1,3,splt+1)\n",
    "    markov_sim(k,n=3,plots=True)\n",
    "    plt.title('k = '+str(k),fontweight='bold',fontsize=15)\n",
    "plt.tight_layout()\n",
    "plt.savefig('panelA.svg')\n",
    "plt.show()"
   ]
  },
  {
   "cell_type": "code",
   "execution_count": null,
   "metadata": {
    "collapsed": false
   },
   "outputs": [],
   "source": [
    "def sim_ensemble(k,N):\n",
    "    \"\"\" N = number of molecules to simulate \"\"\"\n",
    "    X = []\n",
    "    for i in range(N):\n",
    "        x,s = markov_sim(k,n=1)\n",
    "        X.append(x)\n",
    "\n",
    "    X = np.array(X).T        # each column of X is a trajectory\n",
    "    t = linspace(0,tmax,len(x))  # time axis\n",
    "    return t,X\n",
    "\n",
    "def bin_cable(X,nbins):\n",
    "    d0,d1 = -25.5,25.5            # ends of the cable\n",
    "    Bx = np.linspace(d0,d1,nbins) # compartment edges\n",
    "    dx = Bx[1]-Bx[0]              # compartment size\n",
    "    Bxc = Bx[:-1]+(dx/2)          # compartment centers\n",
    "    Cx = np.empty((nt,len(Bxc)))  # concentration in each compartment\n",
    "\n",
    "    for i in range(len(Bxc)):\n",
    "        Cx[:,i] = np.mean((X > Bx[i]) & (X <= Bx[i+1]),axis=1)\n",
    "    \n",
    "    return Cx,Bxc\n",
    "\n",
    "# def calc_run_lens(X):\n",
    "#     for i in X.shape[1]:\n",
    "#         xx = list(X[:,i])\n",
    "#         xxs = np.cumsum(diff(sign(diff([xx[0]]+xx+[xx[-1]])))) # slope\n",
    "        \n",
    "        \n",
    "#     xx = list(X[:,0])\n",
    "\n",
    "def plot_conc_profile(data):\n",
    "    \"\"\" Plot the spatial distribution at several time points\"\"\"\n",
    "    tp = range(0,nt,10)\n",
    "    cols = np.vstack((np.zeros(len(tp)), np.linspace(0,0.8,len(tp)), np.zeros(len(tp))))\n",
    "    for (c,i) in enumerate(tp):\n",
    "        plt.plot(Bxc,data[i,:],'o-',color=cols[:,c],lw=2)\n",
    "    plt.yticks([0,1])\n",
    "    plt.ylim([0,1.1])\n",
    "    plt.xlim([-10,10])\n",
    "    plt.xlabel('position',fontsize=15)\n",
    "    plt.ylabel('concentration',fontsize=15)"
   ]
  },
  {
   "cell_type": "code",
   "execution_count": null,
   "metadata": {
    "collapsed": false
   },
   "outputs": [],
   "source": [
    "Cx_store = []\n",
    "\n",
    "plt.figure(figsize=(12,3))\n",
    "for splt,k in enumerate(klevels):\n",
    "    plt.subplot(1,3,splt+1)\n",
    "    t,X = sim_ensemble(k,5000)\n",
    "    Cx,Bxc = bin_cable(X,52)\n",
    "    Cx_store.append(Cx)\n",
    "    plot_conc_profile(Cx)\n",
    "    plt.title('k = '+str(k),fontweight='bold',fontsize=15)\n",
    "plt.tight_layout()\n",
    "plt.savefig('panelB.svg')\n",
    "plt.show()"
   ]
  },
  {
   "cell_type": "code",
   "execution_count": null,
   "metadata": {
    "collapsed": false
   },
   "outputs": [],
   "source": [
    "from scipy.linalg import expm\n",
    "\n",
    "def mass_action_matrix(a_,b_,nC):\n",
    "    # transport rate constants\n",
    "    a = np.ones(nC-1)*a_\n",
    "    b = np.ones(nC-1)*b_\n",
    "\n",
    "    # construct state-transistion matrix, A\n",
    "    mid = np.zeros(nC)\n",
    "    mid[:-1] -= a\n",
    "    mid[1:]  -= b\n",
    "    return np.diag(a, -1) + np.diag(mid) + np.diag(b, 1)\n",
    "\n",
    "def mass_action_simulate(A,nC):\n",
    "    # initial condition\n",
    "    u0 = np.zeros(nC)\n",
    "    u0[(nC-1)/2] = 1.0\n",
    "    \n",
    "    # simulate\n",
    "    u = [] # trace\n",
    "    for (i,tt) in enumerate(t):\n",
    "        u.append(np.dot(expm(A*tt),u0))\n",
    "    return np.array(u)\n",
    "\n",
    "def f(x,Ctarg,make_plot=False):\n",
    "    nC = Ctarg.shape[1]\n",
    "    A = mass_action_matrix(x[0],x[1],nC)\n",
    "    u = mass_action_simulate(A,nC)\n",
    "    \n",
    "    if make_plot:\n",
    "        print A\n",
    "        plt.plot(t,u)\n",
    "        plt.show()\n",
    "    \n",
    "    return np.sum((u-Ctarg)**2)"
   ]
  },
  {
   "cell_type": "code",
   "execution_count": null,
   "metadata": {
    "collapsed": false
   },
   "outputs": [],
   "source": [
    "from scipy.optimize import minimize\n",
    "CxFit_store = []\n",
    "\n",
    "print pp,'\\n'\n",
    "\n",
    "plt.figure(figsize=(12,3))\n",
    "for splt,Cx in enumerate(Cx_store):\n",
    "    plt.subplot(1,3,splt+1)\n",
    "    sol = minimize(lambda x: f(x,Cx),[0.08,0.35],bounds=[(0,None),(0,None)])\n",
    "    a_opt,b_opt = sol.x\n",
    "    print a_opt,b_opt\n",
    "    print a_opt/(a_opt+b_opt)\n",
    "    print 1/(a_opt+b_opt)\n",
    "    print ' '\n",
    "    A = mass_action_matrix(a_opt,b_opt,Cx.shape[1])\n",
    "    CxFit_store.append(mass_action_simulate(A,Cx.shape[1]))\n",
    "    plot_conc_profile(CxFit)\n",
    "    plt.title('k = '+str(klevels[splt]),fontweight='bold',fontsize=15)\n",
    "plt.tight_layout()\n",
    "plt.savefig('panelC.svg')\n",
    "plt.show()"
   ]
  },
  {
   "cell_type": "code",
   "execution_count": null,
   "metadata": {
    "collapsed": false
   },
   "outputs": [],
   "source": [
    "plt.plot(Cx_store[0])\n",
    "plt.show()"
   ]
  },
  {
   "cell_type": "code",
   "execution_count": null,
   "metadata": {
    "collapsed": false
   },
   "outputs": [],
   "source": [
    "plt.plot(CxFit_store[0])\n",
    "plt.show()"
   ]
  },
  {
   "cell_type": "code",
   "execution_count": null,
   "metadata": {
    "collapsed": false
   },
   "outputs": [],
   "source": [
    "xx = list(X[:,0])\n",
    "plt.plot(t,xx)\n",
    "fi = diff(sign(diff([xx[0]]+xx+[xx[-1]])))==2\n",
    "bi = diff(sign(diff([xx[0]]+xx+[xx[-1]])))==-2\n",
    "plt.plot(t[fi],X[fi,0],'or')\n",
    "plt.plot(t[bi],X[bi,0],'ok')"
   ]
  },
  {
   "cell_type": "code",
   "execution_count": null,
   "metadata": {
    "collapsed": false
   },
   "outputs": [],
   "source": [
    "tf = t[fi]\n",
    "tb = t[bi]\n",
    "\n",
    "j = 0\n",
    "while j < len(tf) and j < len(tb):\n",
    "    print tf[j]\n",
    "    j += 1"
   ]
  }
 ],
 "metadata": {
  "kernelspec": {
   "display_name": "Python 2",
   "language": "python",
   "name": "python2"
  },
  "language_info": {
   "codemirror_mode": {
    "name": "ipython",
    "version": 2
   },
   "file_extension": ".py",
   "mimetype": "text/x-python",
   "name": "python",
   "nbconvert_exporter": "python",
   "pygments_lexer": "ipython2",
   "version": "2.7.9"
  }
 },
 "nbformat": 4,
 "nbformat_minor": 0
}
