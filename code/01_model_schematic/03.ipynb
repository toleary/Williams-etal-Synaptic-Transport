{
 "cells": [
  {
   "cell_type": "code",
   "execution_count": 1,
   "metadata": {
    "collapsed": false
   },
   "outputs": [],
   "source": [
    "from __future__ import division\n",
    "import pylab as plt\n",
    "from numpy import random,argwhere,linspace\n",
    "from numpy.random import randint\n",
    "import numpy as np\n",
    "%matplotlib inline"
   ]
  },
  {
   "cell_type": "code",
   "execution_count": 2,
   "metadata": {
    "collapsed": false
   },
   "outputs": [],
   "source": [
    "tmax = 120\n",
    "dt = 1\n",
    "nt = int(1 + tmax/dt)\n",
    "\n",
    "velocities = [-1.0, 0.0, 1.0]\n",
    "klevels = np.linspace(0,0.98,12)\n",
    "pp = np.array([0.20,0.35,0.45])\n",
    "\n",
    "def get_P(k):\n",
    "    # parameter k tunes the hysteresis\n",
    "    # parameter pp are the columns of P when k=0\n",
    "    P0 = np.tile(pp,(3,1)).T # matrix when k=0\n",
    "    P1 = np.eye(3)           # matrix when k=1\n",
    "    return P0*(1-k)+P1*k \n",
    "\n",
    "def update(x,s,P,dt):\n",
    "    # Draw a new state\n",
    "    s.append(random.choice(range(3),p=P[:,s[-1]]))\n",
    "    # Determine new velocity\n",
    "    v = velocities[s[-1]]\n",
    "    # Append new position\n",
    "    x.append(x[-1]+v*dt)"
   ]
  },
  {
   "cell_type": "code",
   "execution_count": 3,
   "metadata": {
    "collapsed": false
   },
   "outputs": [],
   "source": [
    "def markov_sim(k,n=1,plots=False):\n",
    "    \"\"\"\n",
    "    k = parameter tuning the hysteresis\n",
    "    n = number of simulations to run (only last sim is returned)\n",
    "    \"\"\"\n",
    "    P = get_P(k) # state transition matrix\n",
    "    \n",
    "    for i in range(n):\n",
    "        x = [0]          # initial position\n",
    "        s = [random.choice(range(3),p=pp)] # initial state\n",
    "        t = 0            # initial time\n",
    "        while t < tmax:\n",
    "            t += dt\n",
    "            update(x,s,P,dt)\n",
    "        if plots: plt.plot(linspace(0,tmax,len(x)),x)\n",
    "    \n",
    "    if plots:\n",
    "        plt.yticks([-4,6])\n",
    "        plt.xlabel('time',fontsize=15)\n",
    "        plt.ylabel('position',fontsize=15)\n",
    "    return x,s"
   ]
  },
  {
   "cell_type": "code",
   "execution_count": 4,
   "metadata": {
    "collapsed": false
   },
   "outputs": [],
   "source": [
    "# plt.figure(figsize=(12,3))\n",
    "# for splt,k in enumerate(klevels):\n",
    "#     plt.subplot(1,3,splt+1)\n",
    "#     markov_sim(k,n=3,plots=False)\n",
    "#     plt.title('k = '+str(k),fontweight='bold',fontsize=15)\n",
    "# plt.tight_layout()\n",
    "# plt.savefig('panelA.svg')\n",
    "# plt.show()"
   ]
  },
  {
   "cell_type": "code",
   "execution_count": 5,
   "metadata": {
    "collapsed": false
   },
   "outputs": [],
   "source": [
    "def sim_ensemble(k,N):\n",
    "    \"\"\" N = number of molecules to simulate \"\"\"\n",
    "    X = []\n",
    "    for i in range(N):\n",
    "        x,s = markov_sim(k,n=1)\n",
    "        X.append(x)\n",
    "\n",
    "    X = np.array(X).T        # each column of X is a trajectory\n",
    "    t = linspace(0,tmax,len(x))  # time axis\n",
    "    return t,X\n",
    "\n",
    "def bin_cable(X,nbins):\n",
    "    d0,d1 = -120.5,120.5          # ends of the cable\n",
    "    Bx = np.linspace(d0,d1,nbins) # compartment edges\n",
    "    dx = Bx[1]-Bx[0]              # compartment size\n",
    "    Bxc = Bx[:-1]+(dx/2)          # compartment centers\n",
    "    Cx = np.empty((nt,len(Bxc)))  # concentration in each compartment\n",
    "\n",
    "    for i in range(len(Bxc)):\n",
    "        Cx[:,i] = np.mean((X > Bx[i]) & (X <= Bx[i+1]),axis=1)\n",
    "    \n",
    "    return Cx,Bxc\n",
    "\n",
    "def plot_conc_profile(data):\n",
    "    \"\"\" Plot the spatial distribution at several time points\"\"\"\n",
    "    tp = np.round(np.linspace(5,tmax,7))#range(10,nt,30)\n",
    "    cols = np.vstack((np.linspace(0,1,len(tp)),np.zeros(len(tp)),np.linspace(1,0,len(tp))))\n",
    "    for (c,i) in enumerate(tp):\n",
    "        plt.plot(Bxc,data[i,:],'-',color=cols[:,c],lw=2)\n",
    "    plt.yticks([0,0.2])\n",
    "    plt.ylim([0,0.22])\n",
    "    plt.xlim([-25,75])\n",
    "    plt.xlabel('position',fontsize=15)\n",
    "    plt.ylabel('concentration',fontsize=15)"
   ]
  },
  {
   "cell_type": "code",
   "execution_count": 6,
   "metadata": {
    "collapsed": false
   },
   "outputs": [
    {
     "data": {
      "text/plain": [
       "<matplotlib.figure.Figure at 0x7fdd5f5c3ed0>"
      ]
     },
     "metadata": {},
     "output_type": "display_data"
    }
   ],
   "source": [
    "Cx_store = []\n",
    "\n",
    "#plt.figure(figsize=(12,3))\n",
    "for splt,k in enumerate(klevels):\n",
    "    #plt.subplot(1,3,splt+1)\n",
    "    t,X = sim_ensemble(k,500)\n",
    "    Cx,Bxc = bin_cable(X,int(tmax)*2+1)\n",
    "    Cx_store.append(Cx)\n",
    "    #plot_conc_profile(Cx)\n",
    "    #plt.title('k = '+str(k),fontweight='bold',fontsize=15)\n",
    "# plt.tight_layout()\n",
    "# plt.savefig('panelB.svg')\n",
    "# plt.show()"
   ]
  },
  {
   "cell_type": "code",
   "execution_count": 7,
   "metadata": {
    "collapsed": false
   },
   "outputs": [],
   "source": [
    "from scipy.linalg import expm\n",
    "\n",
    "def mass_action_matrix(a_,b_,nC):\n",
    "    # transport rate constants\n",
    "    a = np.ones(nC-1)*a_\n",
    "    b = np.ones(nC-1)*b_\n",
    "\n",
    "    # construct state-transistion matrix, A\n",
    "    mid = np.zeros(nC)\n",
    "    mid[:-1] -= a\n",
    "    mid[1:]  -= b\n",
    "    return np.diag(a, -1) + np.diag(mid) + np.diag(b, 1)\n",
    "\n",
    "def mass_action_simulate(A,nC):\n",
    "    # initial condition\n",
    "    u0 = np.zeros(nC)\n",
    "    u0[(nC-1)/2] = 1.0\n",
    "    \n",
    "    # simulate\n",
    "    u = [u0]   # concentration in each compartment\n",
    "    eA = expm(A*dt)\n",
    "    for i in range(nt-1):\n",
    "        u.append(np.dot(eA,u[-1]))\n",
    "    return np.array(u)\n",
    "\n",
    "def f(x,Ctarg,make_plot=False):\n",
    "    nC = Ctarg.shape[1]\n",
    "    A = mass_action_matrix(x[0],x[1],nC)\n",
    "    u = mass_action_simulate(A,nC)\n",
    "    \n",
    "    if make_plot:\n",
    "        print A\n",
    "        plt.plot(t,u)\n",
    "        plt.show()\n",
    "    \n",
    "    return np.sum((u-Ctarg)**2)"
   ]
  },
  {
   "cell_type": "code",
   "execution_count": 8,
   "metadata": {
    "collapsed": false
   },
   "outputs": [],
   "source": [
    "from scipy.optimize import minimize\n",
    "CxFit_store = []\n",
    "sol_store = []\n",
    "\n",
    "#plt.figure(figsize=(12,3))\n",
    "for i,Cx in enumerate(Cx_store):\n",
    "    #plt.subplot(1,3,i+1)\n",
    "    if klevels[i] == 0.0:\n",
    "        a_opt,b_opt = pp[2],pp[0]\n",
    "    else:\n",
    "        sol = minimize(lambda x: f(x,Cx),[pp[2],pp[0]],bounds=[(0,None),(0,None)])\n",
    "        a_opt,b_opt = sol.x\n",
    "    A = mass_action_matrix(a_opt,b_opt,Cx.shape[1])\n",
    "    CxFit = mass_action_simulate(A,Cx.shape[1])\n",
    "    #plot_conc_profile(CxFit)\n",
    "    CxFit_store.append(CxFit)\n",
    "    sol_store.append([a_opt,b_opt])\n",
    "    #plt.title('k = '+str(klevels[i]),fontweight='bold',fontsize=15)\n",
    "#plt.tight_layout()\n",
    "#plt.savefig('panelC.svg')\n",
    "#plt.show()\n",
    "\n",
    "sol_store = np.array(sol_store)"
   ]
  },
  {
   "cell_type": "code",
   "execution_count": 26,
   "metadata": {
    "collapsed": false
   },
   "outputs": [
    {
     "data": {
      "image/png": "[encoded data removed]",
      "text/plain": [
       "<matplotlib.figure.Figure at 0x7fdd59128650>"
      ]
     },
     "metadata": {},
     "output_type": "display_data"
    }
   ],
   "source": [
    "plt.figure()\n",
    "plt.plot(klevels,sol_store[:,0],\"ob\")\n",
    "plt.plot(klevels,sol_store[:,1],\"or\")\n",
    "#plt.plot(klevels,-pp[2]/(klevels-1),\"-b\")\n",
    "#plt.plot(klevels,-pp[0]/(klevels-1),\"-r\")\n",
    "#plt.xlim([0, 0.8])\n",
    "#plt.ylim([0, 4])\n",
    "plt.show()"
   ]
  },
  {
   "cell_type": "code",
   "execution_count": 27,
   "metadata": {
    "collapsed": false
   },
   "outputs": [
    {
     "data": {
      "image/png": "[encoded data removed]",
      "text/plain": [
       "<matplotlib.figure.Figure at 0x7fdd58d8b3d0>"
      ]
     },
     "metadata": {},
     "output_type": "display_data"
    }
   ],
   "source": [
    "plt.figure()\n",
    "plt.plot(klevels,np.log(sol_store[:,0]),\"ob\")\n",
    "plt.plot(klevels,np.log(sol_store[:,1]),\"or\")\n",
    "#plt.plot(klevels,-pp[2]/(klevels-1),\"-b\")\n",
    "#plt.plot(klevels,-pp[0]/(klevels-1),\"-r\")\n",
    "#plt.xlim([0, 0.8])\n",
    "#plt.ylim([0, 4])\n",
    "plt.show()"
   ]
  },
  {
   "cell_type": "code",
   "execution_count": 28,
   "metadata": {
    "collapsed": false
   },
   "outputs": [
    {
     "data": {
      "image/png": "[encoded data removed]",
      "text/plain": [
       "<matplotlib.figure.Figure at 0x7fdd58d46110>"
      ]
     },
     "metadata": {},
     "output_type": "display_data"
    }
   ],
   "source": [
    "plt.figure()\n",
    "plt.plot(klevels,1/sol_store[:,0],\"ob\")\n",
    "plt.plot(klevels,1/sol_store[:,1],\"or\")\n",
    "#plt.plot(klevels,-pp[2]/(klevels-1),\"-b\")\n",
    "#plt.plot(klevels,-pp[0]/(klevels-1),\"-r\")\n",
    "#plt.xlim([0, 0.8])\n",
    "#plt.ylim([0, 4])\n",
    "plt.show()"
   ]
  },
  {
   "cell_type": "code",
   "execution_count": null,
   "metadata": {
    "collapsed": true
   },
   "outputs": [],
   "source": []
  }
 ],
 "metadata": {
  "kernelspec": {
   "display_name": "Python 2",
   "language": "python",
   "name": "python2"
  },
  "language_info": {
   "codemirror_mode": {
    "name": "ipython",
    "version": 2
   },
   "file_extension": ".py",
   "mimetype": "text/x-python",
   "name": "python",
   "nbconvert_exporter": "python",
   "pygments_lexer": "ipython2",
   "version": "2.7.9"
  }
 },
 "nbformat": 4,
 "nbformat_minor": 0
}
